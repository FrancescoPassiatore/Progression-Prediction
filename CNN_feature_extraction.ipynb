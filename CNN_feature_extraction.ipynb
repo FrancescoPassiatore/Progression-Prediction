{
  "nbformat": 4,
  "nbformat_minor": 0,
  "metadata": {
    "colab": {
      "provenance": [],
      "gpuType": "T4"
    },
    "kernelspec": {
      "name": "python3",
      "display_name": "Python 3"
    },
    "language_info": {
      "name": "python"
    },
    "accelerator": "GPU"
  },
  "cells": [
    {
      "cell_type": "code",
      "source": [
        "from google.colab import drive\n",
        "\n",
        "drive.mount('/content/drive')"
      ],
      "metadata": {
        "id": "tQCqOwyCbBFT",
        "colab": {
          "base_uri": "https://localhost:8080/"
        },
        "outputId": "83cec837-52de-429e-8955-ad4f1ba98489"
      },
      "execution_count": 1,
      "outputs": [
        {
          "output_type": "stream",
          "name": "stdout",
          "text": [
            "Mounted at /content/drive\n"
          ]
        }
      ]
    },
    {
      "cell_type": "markdown",
      "source": [
        "# CNN - extract features"
      ],
      "metadata": {
        "id": "0i4swU5yJvkS"
      }
    },
    {
      "cell_type": "markdown",
      "source": [
        "Pre-process image"
      ],
      "metadata": {
        "id": "nu0QPP4_MGym"
      }
    },
    {
      "cell_type": "code",
      "source": [
        "!pip install pydicom"
      ],
      "metadata": {
        "colab": {
          "base_uri": "https://localhost:8080/"
        },
        "collapsed": true,
        "id": "IGHniIork1Pp",
        "outputId": "7cda4d2d-23d8-4691-a8e7-4cd297890e0d"
      },
      "execution_count": 2,
      "outputs": [
        {
          "output_type": "stream",
          "name": "stdout",
          "text": [
            "Collecting pydicom\n",
            "  Downloading pydicom-3.0.1-py3-none-any.whl.metadata (9.4 kB)\n",
            "Downloading pydicom-3.0.1-py3-none-any.whl (2.4 MB)\n",
            "\u001b[?25l   \u001b[90m━━━━━━━━━━━━━━━━━━━━━━━━━━━━━━━━━━━━━━━━\u001b[0m \u001b[32m0.0/2.4 MB\u001b[0m \u001b[31m?\u001b[0m eta \u001b[36m-:--:--\u001b[0m\r\u001b[2K   \u001b[91m━━━━━━━━━━━━━━━━━━━━━━━━━━━━━━━━━━\u001b[0m\u001b[91m╸\u001b[0m\u001b[90m━━━━━\u001b[0m \u001b[32m2.1/2.4 MB\u001b[0m \u001b[31m56.4 MB/s\u001b[0m eta \u001b[36m0:00:01\u001b[0m\r\u001b[2K   \u001b[90m━━━━━━━━━━━━━━━━━━━━━━━━━━━━━━━━━━━━━━━━\u001b[0m \u001b[32m2.4/2.4 MB\u001b[0m \u001b[31m44.3 MB/s\u001b[0m eta \u001b[36m0:00:00\u001b[0m\n",
            "\u001b[?25hInstalling collected packages: pydicom\n",
            "Successfully installed pydicom-3.0.1\n"
          ]
        }
      ]
    },
    {
      "cell_type": "code",
      "source": [
        "import numpy as np\n",
        "import pydicom\n",
        "import matplotlib.pyplot as plt"
      ],
      "metadata": {
        "id": "4MqMg_kLj4UJ"
      },
      "execution_count": 3,
      "outputs": []
    },
    {
      "cell_type": "code",
      "source": [
        "import numpy as np\n",
        "import pandas as pd\n",
        "import os\n",
        "import random\n",
        "import matplotlib.pyplot as plt\n",
        "from tqdm import tqdm\n",
        "from PIL import Image\n",
        "from sklearn.metrics import mean_absolute_error\n",
        "from sklearn.model_selection import GroupKFold, KFold, StratifiedKFold\n",
        "import seaborn as sns\n",
        "import math\n",
        "import cv2\n",
        "import pydicom\n",
        "import os\n",
        "from tqdm import tqdm\n",
        "import glob\n",
        "import pickle as pkl\n",
        "import matplotlib.image as mpimg\n",
        "from tabulate import tabulate\n",
        "import missingno as msno\n",
        "from IPython.display import display_html\n",
        "from PIL import Image\n",
        "import gc\n",
        "from skimage.transform import resize\n",
        "import copy\n",
        "import re\n",
        "from scipy.stats import pearsonr\n",
        "\n",
        "# Segmentation\n",
        "import glob\n",
        "from mpl_toolkits.mplot3d.art3d import Poly3DCollection\n",
        "import scipy.ndimage\n",
        "from skimage import morphology\n",
        "from skimage import measure\n",
        "from skimage.transform import resize\n",
        "from sklearn.cluster import KMeans\n",
        "from plotly import __version__\n",
        "from plotly.offline import download_plotlyjs, init_notebook_mode, plot, iplot\n",
        "from plotly.tools import FigureFactory as FF\n",
        "from plotly.graph_objs import *\n",
        "init_notebook_mode(connected=True)\n",
        "\n",
        "import warnings\n",
        "warnings.filterwarnings(\"ignore\")\n",
        "\n",
        "#------------------------------------------------------------\n",
        "\n",
        "pd.set_option(\"display.max_columns\", 100)\n",
        "\n",
        "#Define resolution of image 512*512\n",
        "N_ROWS = 512\n",
        "N_COLS = 512\n",
        "path = 'C:/Users/frank/OneDrive/Desktop/Thesis - Progress Prediction/CodeDevelopment/osic-pulmonary-fibrosis-progression/'\n",
        "#Define Batch size\n",
        "BATCH_SIZE=128\n",
        "\n",
        "# Areas with the same number of pixels on the edges are not required. Crop it.\n",
        "def crop_image(img: np.ndarray):\n",
        "    edge_pixel_value = img[0, 0]\n",
        "    mask = img != edge_pixel_value\n",
        "    return img[np.ix_(mask.any(1),mask.any(0))]\n",
        "\n",
        "# Load images, crop thick borders(if any) and resize\n",
        "def load_image(path):\n",
        "    dataset = pydicom.dcmread(path)\n",
        "    img = dataset.pixel_array\n",
        "    img = crop_image(img)\n",
        "#   img = cv2.resize(img, (512,512))\n",
        "    return img\n",
        "\n",
        "# Get Nth percentile image\n",
        "def get_img(perc, patient_id, data):\n",
        "\n",
        "    l = glob.glob(path+'{0}/{1}/*.dcm'.format(data, patient_id))\n",
        "    img_ids = []\n",
        "    for x in l:\n",
        "        y = x.split('\\\\')[-1]\n",
        "        z = int(y.split('.')[0])\n",
        "        img_ids.append(z)\n",
        "\n",
        "    img_ids.sort()\n",
        "\n",
        "    return img_ids[math.ceil(perc*(len(img_ids)))-1]\n",
        "\n",
        "# Get num of slices bw two percentiles\n",
        "def num_img_bw_perc(p1, p2, patient_id, data):\n",
        "\n",
        "    l = glob.glob(path+'{0}/{1}/*.dcm'.format(data, patient_id))\n",
        "    img_ids = []\n",
        "    for x in l:\n",
        "        y = x.split('\\\\')[-1]\n",
        "        z = int(y.split('.')[0])\n",
        "        img_ids.append(z)\n",
        "\n",
        "    img_ids.sort()\n",
        "\n",
        "    return len(img_ids[math.ceil(p1*(len(img_ids)))-1:math.ceil(p2*(len(img_ids)))])-1\n",
        "\n",
        "\n",
        "# Get number of images per patient\n",
        "def get_num_images(patient_id, data):\n",
        "\n",
        "    return len(glob.glob(path+'{0}/{1}/*.dcm'.format(data, patient_id)))\n",
        "\n",
        "# Get the lung area in the image slice\n",
        "def lung_seg_pixel_ratio(img_array):\n",
        "\n",
        "    c = 0\n",
        "    for i in range(img_array.shape[0]):\n",
        "        for j in range(img_array.shape[1]):\n",
        "            if img_array[i][j] != 0:\n",
        "                c+=1\n",
        "\n",
        "    return c, round(c/(img_array.shape[0]*img_array.shape[1]),4)\n",
        "\n",
        "# Get dicom meta data\n",
        "def get_dicom_meta(path):\n",
        "\n",
        "    '''Get information from the .dcm files.\n",
        "    path: complete path to the .dcm file'''\n",
        "\n",
        "    image_data = pydicom.dcmread(path)\n",
        "\n",
        "    # Dictionary to store the information from the image\n",
        "    observation_data = {\n",
        "        \"SliceThickness\" : float(image_data.SliceThickness),\n",
        "        \"PixelSpacing\" : float(image_data.PixelSpacing[0]),\n",
        "    }\n",
        "\n",
        "    return observation_data\n",
        "\n",
        "# Get tissue mask\n",
        "# To extract the tissues from the segmented lung all we need to do is get rid of the border parts from the segmented lung\n",
        "# Grey pixels present within the border of the lung is assumed to be tissue.\n",
        "# Inorder to get rid of the border pixels of the lung we slightly perturb the segmented lung to the right, left, top and bottom\n",
        "# The intersection of all the perturbed images gets rid of the border lung pixels\n",
        "# This resultant image serves as the mask for the tissue segmentation\n",
        "def tissue_mask(img, mask, shift_perc):\n",
        "\n",
        "    r_dim, c_dim = img.shape[0], img.shape[1]\n",
        "\n",
        "    # Move the image by shift_perc to the left\n",
        "    del_left_cols = int(shift_perc*c_dim)\n",
        "\n",
        "    mask1, mask2 = mask.copy(), np.zeros((r_dim, c_dim)).astype(int)\n",
        "    mask1 = mask1[:,del_left_cols:]\n",
        "    mask2[:,:c_dim-del_left_cols] = mask1\n",
        "\n",
        "    # Move the image by shift_perc to the right\n",
        "    del_right_cols = int(shift_perc*c_dim)\n",
        "\n",
        "    mask3, mask4 = mask.copy(), np.zeros((r_dim, c_dim)).astype(int)\n",
        "    mask3 = mask3[:,:c_dim-del_right_cols]\n",
        "    mask4[:,del_right_cols:] = mask3\n",
        "\n",
        "    # Move the image by shift_perc to the top\n",
        "    del_top_rows = int(shift_perc*c_dim) #BUG C_DIM SHOULD BE R_DIM\n",
        "\n",
        "    mask5, mask6 = mask.copy(), np.zeros((r_dim, c_dim)).astype(int)\n",
        "    mask5 = mask5[del_top_rows:,:]\n",
        "    mask6[:r_dim-del_top_rows,:] = mask5\n",
        "\n",
        "    # Move the image by shift_perc to the bottom\n",
        "    del_bottom_rows = int(shift_perc*r_dim)\n",
        "\n",
        "    mask7, mask8 = mask.copy(), np.zeros((r_dim, c_dim)).astype(int)\n",
        "    mask7 = mask7[:r_dim-del_bottom_rows,:]\n",
        "    mask8[del_bottom_rows:,:] = mask7\n",
        "\n",
        "    #Obtain the final mask\n",
        "    final_mask = ((mask2==1) & (mask4==1) & (mask6==1) & (mask8==1)).astype(int)\n",
        "\n",
        "    return final_mask\n",
        "\n",
        "# Get tissue features\n",
        "def tissue_features(tissue_mask, img, thresh = 0.35):\n",
        "\n",
        "    final_img = tissue_mask*img\n",
        "\n",
        "    checker = np.zeros((final_img.shape[0], final_img.shape[1]))\n",
        "    counter, other_counter = 0, 0\n",
        "    for i in range(final_img.shape[0]):\n",
        "        for j in range(final_img.shape[1]):\n",
        "            if final_img[i][j]>=thresh:\n",
        "                checker[i][j] = 1\n",
        "                counter+=1\n",
        "            else:\n",
        "                checker[i][j] = 0\n",
        "                other_counter+=1\n",
        "\n",
        "    tissue_by_total = counter/(final_img.shape[0]**2)\n",
        "    tissue_by_lung = counter/((tissue_mask==1).sum())\n",
        "\n",
        "    return counter, tissue_by_total, tissue_by_lung, checker\n",
        "\n",
        "# https://www.raddq.com/dicom-processing-segmentation-visualization-in-python/\n",
        "def make_lungmask(img, display=False):\n",
        "\n",
        "    img = img.astype(float)\n",
        "    row_size= img.shape[0]\n",
        "    col_size = img.shape[1]\n",
        "\n",
        "\n",
        "    #Normalize image pixels\n",
        "    mean = np.mean(img)\n",
        "    std = np.std(img)\n",
        "    img = img-mean\n",
        "    img = img/std\n",
        "\n",
        "    # Find the average pixel value near the lungs\n",
        "    # to renormalize washed out images\n",
        "    middle = img[int(col_size/5):int(col_size/5*4),int(row_size/5):int(row_size/5*4)]\n",
        "    mean = np.mean(middle)\n",
        "    max = np.max(img)\n",
        "    min = np.min(img)\n",
        "\n",
        "    # To improve threshold finding, I'm moving the\n",
        "    # underflow and overflow on the pixel spectrum\n",
        "    img[img==max]=mean\n",
        "    img[img==min]=mean\n",
        "    #Substitutes too light/dark pixels with mean\n",
        "    # Using Kmeans to separate foreground (soft tissue / bone) and background (lung/air)\n",
        "    kmeans = KMeans(n_clusters=2).fit(np.reshape(middle,[np.prod(middle.shape),1]))\n",
        "    centers = sorted(kmeans.cluster_centers_.flatten())\n",
        "    threshold = np.mean(centers)\n",
        "    thresh_img = np.where(img<threshold,1.0,0.0)  # threshold the image\n",
        "\n",
        "    # First erode away the finer elements, then dilate to include some of the pixels surrounding the lung.\n",
        "    # We don't want to accidentally clip the lung.\n",
        "\n",
        "    eroded = morphology.erosion(thresh_img,np.ones([3,3]))\n",
        "    dilation = morphology.dilation(eroded,np.ones([8,8]))\n",
        "\n",
        "    labels = measure.label(dilation) # Different labels are displayed in different colors\n",
        "    label_vals = np.unique(labels)\n",
        "    regions = measure.regionprops(labels)\n",
        "    good_labels = []\n",
        "    for prop in regions:\n",
        "        B = prop.bbox\n",
        "        if ((B[2]-B[0]<row_size*0.9) and (B[3]-B[1]<col_size*0.9) and (B[2]-B[0]>row_size*0.20)\n",
        "            and (B[3]-B[1]>col_size*0.10) and (B[0]>row_size*0.03) and (B[2]<row_size*0.97)\n",
        "            and (B[1]>col_size*0.03) and (B[3]<col_size*0.97)):\n",
        "            good_labels.append(prop.label)\n",
        "    mask = np.ndarray([row_size,col_size],dtype=np.int8)\n",
        "    mask[:] = 0\n",
        "\n",
        "    #  After just the lungs are left, we do another large dilation\n",
        "    #  in order to fill in and out the lung mask\n",
        "\n",
        "    for N in good_labels:\n",
        "        mask = mask + np.where(labels==N,1,0)\n",
        "    mask = morphology.dilation(mask,np.ones([10,10])) # one last dilation\n",
        " # Compute Lung Area in the slice\n",
        "    lung_pixels, slice_lung_area = lung_seg_pixel_ratio(mask)\n",
        "\n",
        "    # Tissue Mask\n",
        "    t_mask = tissue_mask(img, mask, shift_perc = 0.02)\n",
        "\n",
        "    # Extract tissue features\n",
        "    num_t_pixels, tissue_by_total, tissue_by_lung, checker = tissue_features(t_mask, img, thresh = 0.35)\n",
        "\n",
        "    if (display):\n",
        "        fig, ax = plt.subplots(4, 2, figsize=[18, 18])\n",
        "        ax[0, 0].set_title(\"Original\")\n",
        "        ax[0, 0].imshow(img, cmap='gray')\n",
        "        ax[0, 0].axis('off')\n",
        "        ax[0, 1].set_title(\"Threshold\")\n",
        "        ax[0, 1].imshow(thresh_img, cmap='gray')\n",
        "        ax[0, 1].axis('off')\n",
        "        ax[1, 0].set_title(\"After Erosion and Dilation\")\n",
        "        ax[1, 0].imshow(dilation, cmap='gray')\n",
        "        ax[1, 0].axis('off')\n",
        "        ax[1, 1].set_title(\"Color Labels\")\n",
        "        ax[1, 1].imshow(labels)\n",
        "        ax[1, 1].axis('off')\n",
        "        ax[2, 0].set_title(\"Final Mask\")\n",
        "        ax[2, 0].imshow(mask, cmap='gray')\n",
        "        ax[2, 0].axis('off')\n",
        "        ax[2, 1].set_title(\"Apply Mask on Original\")\n",
        "        ax[2, 1].imshow(mask*img, cmap='gray')\n",
        "        ax[2, 1].axis('off')\n",
        "        ax[3, 0].set_title(\"Inner Lung Mask\")\n",
        "        ax[3, 0].imshow(t_mask, cmap='gray')\n",
        "        ax[3, 0].axis('off')\n",
        "        ax[3, 1].set_title(\"Segmented Tissue\")\n",
        "        ax[3, 1].imshow(checker, cmap='gray')\n",
        "        ax[3, 1].axis('off')\n",
        "\n",
        "        plt.show()\n",
        "\n",
        "    return img,thresh_img,dilation,labels,mask,mask*img,t_mask,checker\n",
        "\n",
        "\n"
      ],
      "metadata": {
        "colab": {
          "base_uri": "https://localhost:8080/",
          "height": 17
        },
        "id": "YNWPAh7tuYkJ",
        "outputId": "a42d87ff-1beb-4f28-b0e9-2631074a9bac"
      },
      "execution_count": 4,
      "outputs": [
        {
          "output_type": "display_data",
          "data": {
            "text/html": [
              "        <script type=\"text/javascript\">\n",
              "        window.PlotlyConfig = {MathJaxConfig: 'local'};\n",
              "        if (window.MathJax && window.MathJax.Hub && window.MathJax.Hub.Config) {window.MathJax.Hub.Config({SVG: {font: \"STIX-Web\"}});}\n",
              "        if (typeof require !== 'undefined') {\n",
              "        require.undef(\"plotly\");\n",
              "        requirejs.config({\n",
              "            paths: {\n",
              "                'plotly': ['https://cdn.plot.ly/plotly-2.35.2.min']\n",
              "            }\n",
              "        });\n",
              "        require(['plotly'], function(Plotly) {\n",
              "            window._Plotly = Plotly;\n",
              "        });\n",
              "        }\n",
              "        </script>\n",
              "        "
            ]
          },
          "metadata": {}
        }
      ]
    },
    {
      "cell_type": "markdown",
      "source": [
        "Training"
      ],
      "metadata": {
        "id": "DST3hWPfVNRV"
      }
    },
    {
      "cell_type": "code",
      "source": [
        "csv_path = '/content/drive/MyDrive/patient_event_slice.csv'\n",
        "df = pd.read_csv(csv_path)\n",
        "print(df.head())"
      ],
      "metadata": {
        "colab": {
          "base_uri": "https://localhost:8080/"
        },
        "collapsed": true,
        "id": "LJ63Q68KkZ1v",
        "outputId": "3b73fce7-2e9e-47bb-f98c-fd5e59fa5330"
      },
      "execution_count": 5,
      "outputs": [
        {
          "output_type": "stream",
          "name": "stdout",
          "text": [
            "                     Patient  event  time  \\\n",
            "0  ID00007637202177411956430      1    11   \n",
            "1  ID00009637202177434476278      1    52   \n",
            "2  ID00010637202177584971671      1     5   \n",
            "3  ID00011637202177653955184      0    52   \n",
            "4  ID00012637202177665765362      1    54   \n",
            "\n",
            "                                         slice_files  \n",
            "0  ['18.dcm', '19.dcm', '2.dcm', '20.dcm', '21.dc...  \n",
            "1  ['205.dcm', '216.dcm', '226.dcm', '237.dcm', '...  \n",
            "2  ['32.dcm', '35.dcm', '38.dcm', '40.dcm', '43.d...  \n",
            "3  ['18.dcm', '19.dcm', '2.dcm', '20.dcm', '21.dc...  \n",
            "4  ['22.dcm', '24.dcm', '25.dcm', '27.dcm', '28.d...  \n"
          ]
        }
      ]
    },
    {
      "cell_type": "code",
      "source": [
        "import ast\n",
        "df['slice_files'] = df['slice_files'].apply(ast.literal_eval)\n"
      ],
      "metadata": {
        "id": "xEVQfLIZmviR"
      },
      "execution_count": 6,
      "outputs": []
    },
    {
      "cell_type": "code",
      "source": [
        "from sklearn.model_selection import train_test_split\n",
        "\n",
        "patients = df['Patient'].tolist()\n",
        "\n",
        "# Split 70/15/15 stratified by event\n",
        "train_patients, temp_patients = train_test_split(\n",
        "    patients, test_size=0.3, random_state=42, stratify=df['event']\n",
        ")\n",
        "\n",
        "val_patients, test_patients = train_test_split(\n",
        "    temp_patients, test_size=0.5, random_state=42,\n",
        "    stratify=df.set_index('Patient').loc[temp_patients]['event']\n",
        ")\n",
        "\n",
        "train_df = df[df['Patient'].isin(train_patients)].reset_index(drop=True)\n",
        "val_df   = df[df['Patient'].isin(val_patients)].reset_index(drop=True)\n",
        "test_df  = df[df['Patient'].isin(test_patients)].reset_index(drop=True)\n",
        "\n",
        "print(f\"Train: {len(train_df)}, Val: {len(val_df)}, Test: {len(test_df)}\")\n"
      ],
      "metadata": {
        "colab": {
          "base_uri": "https://localhost:8080/"
        },
        "id": "PKbcg7OKlDD8",
        "outputId": "a2d1b0c1-e0a0-4110-80c9-1e24402deae9"
      },
      "execution_count": 7,
      "outputs": [
        {
          "output_type": "stream",
          "name": "stdout",
          "text": [
            "Train: 123, Val: 26, Test: 27\n"
          ]
        }
      ]
    },
    {
      "cell_type": "code",
      "source": [
        "print(train_df)"
      ],
      "metadata": {
        "colab": {
          "base_uri": "https://localhost:8080/"
        },
        "id": "JWgcf5dQleJh",
        "outputId": "12546167-82bc-465a-f359-2fbcd8a7c8db"
      },
      "execution_count": 8,
      "outputs": [
        {
          "output_type": "stream",
          "name": "stdout",
          "text": [
            "                       Patient  event  time  \\\n",
            "0    ID00009637202177434476278      1    52   \n",
            "1    ID00010637202177584971671      1     5   \n",
            "2    ID00011637202177653955184      0    52   \n",
            "3    ID00012637202177665765362      1    54   \n",
            "4    ID00015637202177877247924      1     9   \n",
            "..                         ...    ...   ...   \n",
            "118  ID00419637202311204720264      1    12   \n",
            "119  ID00421637202311550012437      0    55   \n",
            "120  ID00422637202311677017371      1    41   \n",
            "121  ID00423637202312137826377      1     1   \n",
            "122  ID00426637202313170790466      0    59   \n",
            "\n",
            "                                           slice_files  \n",
            "0    [205.dcm, 216.dcm, 226.dcm, 237.dcm, 248.dcm, ...  \n",
            "1    [32.dcm, 35.dcm, 38.dcm, 40.dcm, 43.dcm, 46.dc...  \n",
            "2    [18.dcm, 19.dcm, 2.dcm, 20.dcm, 21.dcm, 22.dcm...  \n",
            "3    [22.dcm, 24.dcm, 25.dcm, 27.dcm, 28.dcm, 3.dcm...  \n",
            "4    [259.dcm, 275.dcm, 291.dcm, 307.dcm, 321.dcm, ...  \n",
            "..                                                 ...  \n",
            "118  [17.dcm, 18.dcm, 19.dcm, 2.dcm, 20.dcm, 21.dcm...  \n",
            "119  [26.dcm, 28.dcm, 3.dcm, 31.dcm, 33.dcm, 34.dcm...  \n",
            "120  [227.dcm, 24.dcm, 252.dcm, 265.dcm, 278.dcm, 2...  \n",
            "121  [178.dcm, 185.dcm, 193.dcm, 200.dcm, 208.dcm, ...  \n",
            "122  [209.dcm, 22.dcm, 231.dcm, 242.dcm, 253.dcm, 2...  \n",
            "\n",
            "[123 rows x 4 columns]\n"
          ]
        }
      ]
    },
    {
      "cell_type": "markdown",
      "source": [
        "Dataset"
      ],
      "metadata": {
        "id": "salhogmyl91I"
      }
    },
    {
      "cell_type": "code",
      "source": [
        "root_path = '/content/drive/MyDrive/osic-pulmonary-fibrosis-progression/extracted'\n"
      ],
      "metadata": {
        "id": "U4sT2OvumJRC"
      },
      "execution_count": 10,
      "outputs": []
    },
    {
      "cell_type": "code",
      "source": [
        "#Passare alla CNN le immagini elaborate da preprocess per aver immagini piu chiare oltre alle maschere in modo che focalizza sui polmoni\n"
      ],
      "metadata": {
        "id": "9XSdo7keuA3h"
      },
      "execution_count": null,
      "outputs": []
    },
    {
      "cell_type": "code",
      "source": [
        "!pip install lifelines"
      ],
      "metadata": {
        "colab": {
          "base_uri": "https://localhost:8080/"
        },
        "id": "85ZASEAs7SzP",
        "outputId": "5ba8654d-dbf5-449b-982c-047cb532c806"
      },
      "execution_count": 9,
      "outputs": [
        {
          "output_type": "stream",
          "name": "stdout",
          "text": [
            "Collecting lifelines\n",
            "  Downloading lifelines-0.30.0-py3-none-any.whl.metadata (3.2 kB)\n",
            "Requirement already satisfied: numpy>=1.14.0 in /usr/local/lib/python3.12/dist-packages (from lifelines) (2.0.2)\n",
            "Requirement already satisfied: scipy>=1.7.0 in /usr/local/lib/python3.12/dist-packages (from lifelines) (1.16.2)\n",
            "Requirement already satisfied: pandas>=2.1 in /usr/local/lib/python3.12/dist-packages (from lifelines) (2.2.2)\n",
            "Requirement already satisfied: matplotlib>=3.0 in /usr/local/lib/python3.12/dist-packages (from lifelines) (3.10.0)\n",
            "Requirement already satisfied: autograd>=1.5 in /usr/local/lib/python3.12/dist-packages (from lifelines) (1.8.0)\n",
            "Collecting autograd-gamma>=0.3 (from lifelines)\n",
            "  Downloading autograd-gamma-0.5.0.tar.gz (4.0 kB)\n",
            "  Preparing metadata (setup.py) ... \u001b[?25l\u001b[?25hdone\n",
            "Collecting formulaic>=0.2.2 (from lifelines)\n",
            "  Downloading formulaic-1.2.1-py3-none-any.whl.metadata (7.0 kB)\n",
            "Collecting interface-meta>=1.2.0 (from formulaic>=0.2.2->lifelines)\n",
            "  Downloading interface_meta-1.3.0-py3-none-any.whl.metadata (6.7 kB)\n",
            "Requirement already satisfied: narwhals>=1.17 in /usr/local/lib/python3.12/dist-packages (from formulaic>=0.2.2->lifelines) (2.9.0)\n",
            "Requirement already satisfied: typing-extensions>=4.2.0 in /usr/local/lib/python3.12/dist-packages (from formulaic>=0.2.2->lifelines) (4.15.0)\n",
            "Requirement already satisfied: wrapt>=1.0 in /usr/local/lib/python3.12/dist-packages (from formulaic>=0.2.2->lifelines) (2.0.0)\n",
            "Requirement already satisfied: contourpy>=1.0.1 in /usr/local/lib/python3.12/dist-packages (from matplotlib>=3.0->lifelines) (1.3.3)\n",
            "Requirement already satisfied: cycler>=0.10 in /usr/local/lib/python3.12/dist-packages (from matplotlib>=3.0->lifelines) (0.12.1)\n",
            "Requirement already satisfied: fonttools>=4.22.0 in /usr/local/lib/python3.12/dist-packages (from matplotlib>=3.0->lifelines) (4.60.1)\n",
            "Requirement already satisfied: kiwisolver>=1.3.1 in /usr/local/lib/python3.12/dist-packages (from matplotlib>=3.0->lifelines) (1.4.9)\n",
            "Requirement already satisfied: packaging>=20.0 in /usr/local/lib/python3.12/dist-packages (from matplotlib>=3.0->lifelines) (25.0)\n",
            "Requirement already satisfied: pillow>=8 in /usr/local/lib/python3.12/dist-packages (from matplotlib>=3.0->lifelines) (11.3.0)\n",
            "Requirement already satisfied: pyparsing>=2.3.1 in /usr/local/lib/python3.12/dist-packages (from matplotlib>=3.0->lifelines) (3.2.5)\n",
            "Requirement already satisfied: python-dateutil>=2.7 in /usr/local/lib/python3.12/dist-packages (from matplotlib>=3.0->lifelines) (2.9.0.post0)\n",
            "Requirement already satisfied: pytz>=2020.1 in /usr/local/lib/python3.12/dist-packages (from pandas>=2.1->lifelines) (2025.2)\n",
            "Requirement already satisfied: tzdata>=2022.7 in /usr/local/lib/python3.12/dist-packages (from pandas>=2.1->lifelines) (2025.2)\n",
            "Requirement already satisfied: six>=1.5 in /usr/local/lib/python3.12/dist-packages (from python-dateutil>=2.7->matplotlib>=3.0->lifelines) (1.17.0)\n",
            "Downloading lifelines-0.30.0-py3-none-any.whl (349 kB)\n",
            "\u001b[2K   \u001b[90m━━━━━━━━━━━━━━━━━━━━━━━━━━━━━━━━━━━━━━━━\u001b[0m \u001b[32m349.3/349.3 kB\u001b[0m \u001b[31m12.1 MB/s\u001b[0m eta \u001b[36m0:00:00\u001b[0m\n",
            "\u001b[?25hDownloading formulaic-1.2.1-py3-none-any.whl (117 kB)\n",
            "\u001b[2K   \u001b[90m━━━━━━━━━━━━━━━━━━━━━━━━━━━━━━━━━━━━━━━━\u001b[0m \u001b[32m117.3/117.3 kB\u001b[0m \u001b[31m5.9 MB/s\u001b[0m eta \u001b[36m0:00:00\u001b[0m\n",
            "\u001b[?25hDownloading interface_meta-1.3.0-py3-none-any.whl (14 kB)\n",
            "Building wheels for collected packages: autograd-gamma\n",
            "  Building wheel for autograd-gamma (setup.py) ... \u001b[?25l\u001b[?25hdone\n",
            "  Created wheel for autograd-gamma: filename=autograd_gamma-0.5.0-py3-none-any.whl size=4030 sha256=b83034455f5a939825bf1d122f4ef4b0b338b36516cf93d88d4515286814bb53\n",
            "  Stored in directory: /root/.cache/pip/wheels/50/37/21/0a719b9d89c635e89ff24bd93b862882ad675279552013b2fb\n",
            "Successfully built autograd-gamma\n",
            "Installing collected packages: interface-meta, autograd-gamma, formulaic, lifelines\n",
            "Successfully installed autograd-gamma-0.5.0 formulaic-1.2.1 interface-meta-1.3.0 lifelines-0.30.0\n"
          ]
        }
      ]
    },
    {
      "cell_type": "code",
      "source": [
        "import torch\n",
        "import torch.nn as nn\n",
        "import torch.nn.functional as F\n",
        "from torch.utils.data import Dataset, DataLoader\n",
        "import torchvision.transforms as transforms\n",
        "import pydicom\n",
        "import numpy as np\n",
        "import cv2\n",
        "import os\n",
        "from tqdm import tqdm\n",
        "import pandas as pd\n",
        "import timm\n",
        "from sklearn.metrics import roc_auc_score, accuracy_score\n",
        "from lifelines.utils import concordance_index  # pip install lifelines"
      ],
      "metadata": {
        "id": "2JxSSw1PvspR"
      },
      "execution_count": 11,
      "outputs": []
    },
    {
      "cell_type": "markdown",
      "source": [
        "Dataset Class\n"
      ],
      "metadata": {
        "id": "gFcaRjVNydkQ"
      }
    },
    {
      "cell_type": "code",
      "source": [
        "!pip install pylibjpeg pylibjpeg-libjpeg python-gdcm\n"
      ],
      "metadata": {
        "id": "A0vgIBa90vMm",
        "colab": {
          "base_uri": "https://localhost:8080/"
        },
        "outputId": "2b37c56f-026f-4403-830a-b7ce76dc7a08"
      },
      "execution_count": 12,
      "outputs": [
        {
          "output_type": "stream",
          "name": "stdout",
          "text": [
            "Collecting pylibjpeg\n",
            "  Downloading pylibjpeg-2.1.0-py3-none-any.whl.metadata (7.9 kB)\n",
            "Collecting pylibjpeg-libjpeg\n",
            "  Downloading pylibjpeg_libjpeg-2.3.0-cp312-cp312-manylinux_2_17_x86_64.manylinux2014_x86_64.whl.metadata (4.8 kB)\n",
            "Collecting python-gdcm\n",
            "  Downloading python_gdcm-3.2.2-cp312-cp312-manylinux_2_27_x86_64.manylinux_2_28_x86_64.whl.metadata (3.8 kB)\n",
            "Requirement already satisfied: numpy in /usr/local/lib/python3.12/dist-packages (from pylibjpeg) (2.0.2)\n",
            "Downloading pylibjpeg-2.1.0-py3-none-any.whl (25 kB)\n",
            "Downloading pylibjpeg_libjpeg-2.3.0-cp312-cp312-manylinux_2_17_x86_64.manylinux2014_x86_64.whl (3.4 MB)\n",
            "\u001b[2K   \u001b[90m━━━━━━━━━━━━━━━━━━━━━━━━━━━━━━━━━━━━━━━━\u001b[0m \u001b[32m3.4/3.4 MB\u001b[0m \u001b[31m69.0 MB/s\u001b[0m eta \u001b[36m0:00:00\u001b[0m\n",
            "\u001b[?25hDownloading python_gdcm-3.2.2-cp312-cp312-manylinux_2_27_x86_64.manylinux_2_28_x86_64.whl (13.3 MB)\n",
            "\u001b[2K   \u001b[90m━━━━━━━━━━━━━━━━━━━━━━━━━━━━━━━━━━━━━━━━\u001b[0m \u001b[32m13.3/13.3 MB\u001b[0m \u001b[31m129.1 MB/s\u001b[0m eta \u001b[36m0:00:00\u001b[0m\n",
            "\u001b[?25hInstalling collected packages: python-gdcm, pylibjpeg-libjpeg, pylibjpeg\n",
            "Successfully installed pylibjpeg-2.1.0 pylibjpeg-libjpeg-2.3.0 python-gdcm-3.2.2\n"
          ]
        }
      ]
    },
    {
      "cell_type": "code",
      "source": [
        "class SliceLevelDataset(Dataset):\n",
        "\n",
        "  def __init__(self, df, root_path, transform=None):\n",
        "        self.df = df.reset_index(drop=True)\n",
        "        self.root_path = root_path\n",
        "        self.transform = transform\n",
        "        self.samples = []\n",
        "\n",
        "        for idx, row in df.iterrows():\n",
        "          patient = row['Patient']\n",
        "          event = row['event']\n",
        "          time = row['time']\n",
        "          slice_files = row['slice_files']\n",
        "\n",
        "          for slice_file in slice_files:\n",
        "            self.samples.append({\n",
        "                'slice_path':os.path.join(root_path,patient,slice_file),\n",
        "                'patient':patient,\n",
        "                'event':event,\n",
        "                'time':time\n",
        "            })\n",
        "\n",
        "        print(f\"Dataset: {len(df)} patients → {len(self.samples)} slices\")\n",
        "\n",
        "  def __len__(self):\n",
        "        return len(self.samples)\n",
        "\n",
        "\n",
        "  def preprocess_slice(self, img):\n",
        "      \"\"\"Usa preprocessing corretto\"\"\"\n",
        "\n",
        "      ds = pydicom.dcmread(img)\n",
        "      img_raw = ds.pixel_array.astype(np.float32)\n",
        "\n",
        "\n",
        "      _, _, _, _, mask, _, _, _ = make_lungmask(img_raw.copy())\n",
        "      img_masked = img_raw * mask\n",
        "\n",
        "      # Lung window\n",
        "      img_windowed = np.clip(img_masked, -1000, 400)\n",
        "      img_normalized = (img_windowed + 1000) / 1400\n",
        "\n",
        "      # Resize\n",
        "      img_resized = cv2.resize(img_normalized, (224, 224))\n",
        "\n",
        "      # RGB\n",
        "      img_rgb = np.stack([img_resized] * 3, axis=0)\n",
        "\n",
        "      # ImageNet normalization\n",
        "      mean = np.array([0.485, 0.456, 0.406])[:, None, None]\n",
        "      std = np.array([0.229, 0.224, 0.225])[:, None, None]\n",
        "      img_final = (img_rgb - mean) / std\n",
        "\n",
        "      return img_final, mask\n",
        "\n",
        "  def __getitem__(self, idx):\n",
        "      sample = self.samples[idx]\n",
        "\n",
        "\n",
        "      try:\n",
        "          # Preprocess the image and get the mask\n",
        "          img, mask = self.preprocess_slice(sample['slice_path'])\n",
        "\n",
        "          # Check if the image is \"empty\" or has no meaningful content\n",
        "          # Soglia per la presenza del polmone (ad esempio, almeno 100 pixel del polmone)\n",
        "          if np.sum(mask) < 30:  # Soglia di pixel validi del polmone\n",
        "              raise ValueError(\"Immagine senza polmone significativo.\")\n",
        "\n",
        "      except Exception as e:\n",
        "          return None  # Return None to skip this sample\n",
        "\n",
        "      # Return a valid sample\n",
        "      return {\n",
        "          'image': torch.FloatTensor(img),\n",
        "          'patient': sample['patient'],\n",
        "          'event': torch.tensor(sample['event'], dtype=torch.float32),\n",
        "          'time': torch.tensor(sample['time'], dtype=torch.float32)\n",
        "      }\n",
        "\n",
        "\n"
      ],
      "metadata": {
        "id": "u9YtwNJLvlC6"
      },
      "execution_count": 13,
      "outputs": []
    },
    {
      "cell_type": "markdown",
      "source": [
        "CNN"
      ],
      "metadata": {
        "id": "Vnb91o9zygci"
      }
    },
    {
      "cell_type": "code",
      "source": [
        "class SliceLevelCNN(nn.Module):\n",
        "\n",
        "    #Add here clinical_Dim to insert handcrafted features\n",
        "    def __init__(self, backbone_name='efficientnet_b0',pretrained = True):\n",
        "      super().__init__()\n",
        "\n",
        "      #Imaging branch\n",
        "      self.backbone = timm.create_model(backbone_name,pretrained=pretrained,in_chans=3,num_classes=0)\n",
        "\n",
        "      self.feature_dim = self.backbone.num_features\n",
        "\n",
        "      #Output head\n",
        "      # Head più stabile con output limitato\n",
        "      self.risk_head = nn.Sequential(\n",
        "          nn.Dropout(0.3),\n",
        "          nn.Linear(self.feature_dim, 128),\n",
        "          nn.ReLU(),\n",
        "          nn.BatchNorm1d(128),  # ← Stabilizza\n",
        "          nn.Dropout(0.2),\n",
        "          nn.Linear(128, 64),\n",
        "          nn.ReLU(),\n",
        "          nn.BatchNorm1d(64),   # ← Stabilizza\n",
        "          nn.Dropout(0.1),\n",
        "          nn.Linear(64, 1),\n",
        "          nn.Tanh()             # ← Output [-1, 1]\n",
        "      )\n",
        "\n",
        "    def forward(self, x):\n",
        "\n",
        "      features = self.backbone(x)\n",
        "\n",
        "      risk = self.risk_head(features)\n",
        "\n",
        "      return risk*3\n",
        "\n",
        "\n",
        "#Custome Collate -> Group by patients\n",
        "\n",
        "def patient_collate(batch):\n",
        "    # Rimuovi gli elementi None (campioni invalidi)\n",
        "    batch = [item for item in batch if item is not None]\n",
        "\n",
        "    # Se non ci sono campioni validi nel batch, restituire un dizionario vuoto o un errore\n",
        "    if len(batch) == 0:\n",
        "        return {\n",
        "            'images': torch.empty(0, 3, 224, 224),\n",
        "            'patients': [],\n",
        "            'events': torch.empty(0),\n",
        "            'times': torch.empty(0)\n",
        "        }\n",
        "\n",
        "    # Ora che i None sono stati rimossi, procediamo a impilare i dati\n",
        "    images = torch.stack([item['image'] for item in batch])\n",
        "    patients = [item['patient'] for item in batch]\n",
        "    events = torch.stack([item['event'] for item in batch])\n",
        "    times = torch.stack([item['time'] for item in batch])\n",
        "\n",
        "    return {\n",
        "        'images': images,\n",
        "        'patients': patients,\n",
        "        'events': events,\n",
        "        'times': times\n",
        "    }\n",
        "\n",
        "\n",
        "def aggregate_patient_risks(risks,patients):\n",
        "\n",
        "  # Clippa per evitare valori estremi\n",
        "  risks = torch.clamp(risks, min=-5, max=5)\n",
        "\n",
        "  unique_patients = []\n",
        "  patient_risks = []\n",
        "  patient_indices = {}\n",
        "\n",
        "\n",
        "  for i,pid in enumerate(patients):\n",
        "    if pid not in patient_indices:\n",
        "      patient_indices[pid] = []\n",
        "      unique_patients.append(pid)\n",
        "    patient_indices[pid].append(i)\n",
        "\n",
        "\n",
        "  for pid in unique_patients:\n",
        "    indices = patient_indices[pid]\n",
        "    patient_risk_slices = risks[indices]\n",
        "\n",
        "    patient_risk_mean = patient_risk_slices.mean()\n",
        "    patient_risks.append(patient_risk_mean)\n",
        "\n",
        "  return torch.stack(patient_risks),unique_patients,patient_indices\n",
        "\n"
      ],
      "metadata": {
        "id": "9Qiscmv3yhsF"
      },
      "execution_count": 21,
      "outputs": []
    },
    {
      "cell_type": "markdown",
      "source": [
        "COX LIKELIHOOD LOSS"
      ],
      "metadata": {
        "id": "EjjiMt_p1SyH"
      }
    },
    {
      "cell_type": "code",
      "source": [
        "def cox_loss(risk_scores, times, events):\n",
        "    \"\"\"Con normalizzazione per stabilità\"\"\"\n",
        "    # Normalizza i risk scores relativi al batch\n",
        "    risk_mean = risk_scores.mean()\n",
        "    risk_std = risk_scores.std() + 1e-8\n",
        "    risk_scores_norm = (risk_scores - risk_mean) / risk_std\n",
        "\n",
        "    # Ora lavora con risk normalizzati\n",
        "    sorted_indices = torch.argsort(times, descending=True)\n",
        "    risk_scores_norm = risk_scores_norm[sorted_indices]\n",
        "    times = times[sorted_indices]\n",
        "    events = events[sorted_indices]\n",
        "\n",
        "    hazard_ratio = torch.exp(risk_scores_norm)\n",
        "    log_risk = torch.log(torch.cumsum(hazard_ratio, dim=0) + 1e-8)\n",
        "\n",
        "    uncensored_likelihood = risk_scores_norm - log_risk\n",
        "    loss = -torch.sum(uncensored_likelihood * events) / (torch.sum(events) + 1e-8)\n",
        "\n",
        "    return loss\n"
      ],
      "metadata": {
        "id": "95jhI5-5zkDW"
      },
      "execution_count": 22,
      "outputs": []
    },
    {
      "cell_type": "markdown",
      "source": [
        "TRAIN"
      ],
      "metadata": {
        "id": "QPO1PjFn2qI8"
      }
    },
    {
      "cell_type": "code",
      "source": [
        "def visualize_image(slices):\n",
        "    # Assicurati che slices abbia dimensioni (B, N, C, H, W)\n",
        "    # Se slices è (B, N, C, H, W), estrai la prima immagine del batch e della slice\n",
        "    img = slices[0, 0].cpu().numpy()  # Primo batch, prima slice\n",
        "\n",
        "    # Controlla se la dimensione dell'immagine è (C, H, W) e convertila a (H, W, C)\n",
        "    if img.shape[0] == 3:  # Se è una immagine RGB (C=3)\n",
        "        img = img.transpose(1, 2, 0)\n",
        "    elif img.shape[0] == 1:  # Se è un'immagine in scala di grigi (C=1)\n",
        "        img = img.squeeze(axis=0)  # Rimuovi la dimensione del canale\n",
        "\n",
        "    # Visualizza l'immagine\n",
        "    fig, ax = plt.subplots(1, 1, figsize=(5, 5))\n",
        "    ax.imshow(img)\n",
        "    ax.set_title(\"Input Image\")\n",
        "    plt.show()\n",
        "\n",
        "def train_epoch(model, loader, optimizer, device, scaler=None):\n",
        "    model.train()\n",
        "    total_loss = 0\n",
        "\n",
        "    # AGGIUNGI: Statistiche sui risk scores\n",
        "    all_slice_risks = []\n",
        "    all_patient_risks = []\n",
        "\n",
        "    if scaler is None:\n",
        "        scaler = torch.cuda.amp.GradScaler()\n",
        "\n",
        "    for batch_idx, batch in enumerate(tqdm(loader, desc='Training')):\n",
        "        images = batch['images'].to(device)\n",
        "        patient_ids = batch['patients']\n",
        "        events = batch['events'].to(device)\n",
        "        times = batch['times'].to(device)\n",
        "\n",
        "        optimizer.zero_grad()\n",
        "\n",
        "        # Visualizza solo il primo batch (opzionale)\n",
        "        if batch_idx == 0:\n",
        "            visualize_image(images)\n",
        "\n",
        "        with torch.cuda.amp.autocast():\n",
        "            slice_risks = model(images).squeeze(1)\n",
        "\n",
        "            # AGGIUNGI: Salva per statistiche\n",
        "            all_slice_risks.append(slice_risks.detach())\n",
        "\n",
        "            patient_risks, unique_pids, patient_indices = aggregate_patient_risks(\n",
        "                slice_risks, patient_ids\n",
        "            )\n",
        "\n",
        "            # AGGIUNGI: Salva per statistiche\n",
        "            all_patient_risks.append(patient_risks.detach())\n",
        "\n",
        "            patient_events = []\n",
        "            patient_times = []\n",
        "\n",
        "            for pid in unique_pids:\n",
        "                idx = patient_indices[pid][0]\n",
        "                patient_events.append(events[idx])\n",
        "                patient_times.append(times[idx])\n",
        "\n",
        "            patient_events = torch.stack(patient_events)\n",
        "            patient_times = torch.stack(patient_times)\n",
        "\n",
        "            loss = cox_loss(patient_risks, patient_times, patient_events)\n",
        "\n",
        "        scaler.scale(loss).backward()\n",
        "        torch.nn.utils.clip_grad_norm_(model.parameters(), max_norm=1.0)\n",
        "        scaler.step(optimizer)\n",
        "        scaler.update()\n",
        "\n",
        "        total_loss += loss.item()\n",
        "\n",
        "    # AGGIUNGI: Stampa statistiche epoch\n",
        "    all_slice_risks = torch.cat(all_slice_risks)\n",
        "    all_patient_risks = torch.cat(all_patient_risks)\n",
        "\n",
        "    print(f\"\\n📊 Risk Statistics:\")\n",
        "    print(f\"Slice risks  - Mean: {all_slice_risks.mean():.3f}, \"\n",
        "          f\"Std: {all_slice_risks.std():.3f}, \"\n",
        "          f\"Range: [{all_slice_risks.min():.3f}, {all_slice_risks.max():.3f}]\")\n",
        "    print(f\"Patient risks - Mean: {all_patient_risks.mean():.3f}, \"\n",
        "          f\"Std: {all_patient_risks.std():.3f}, \"\n",
        "          f\"Range: [{all_patient_risks.min():.3f}, {all_patient_risks.max():.3f}]\")\n",
        "\n",
        "    return total_loss / len(loader), scaler"
      ],
      "metadata": {
        "id": "XRMy3lac2p0d"
      },
      "execution_count": 24,
      "outputs": []
    },
    {
      "cell_type": "code",
      "source": [
        "def evaluate_slice_level(model, loader, device):\n",
        "    \"\"\"\n",
        "    Evaluation con aggregazione per paziente\n",
        "    \"\"\"\n",
        "    model.eval()\n",
        "\n",
        "    # Accumula predizioni per paziente\n",
        "    patient_data = {}  # {patient_id: {'risks': [], 'event': X, 'time': Y}}\n",
        "\n",
        "    with torch.no_grad():\n",
        "        for batch in tqdm(loader, desc='Evaluating'):\n",
        "            images = batch['images'].to(device)\n",
        "            patient_ids = batch['patients']\n",
        "            events = batch['events'].cpu().numpy()\n",
        "            times = batch['times'].cpu().numpy()\n",
        "\n",
        "            with torch.cuda.amp.autocast():\n",
        "                slice_risks = model(images).squeeze(1).cpu().numpy()\n",
        "\n",
        "            # Accumula per paziente\n",
        "            for i, pid in enumerate(patient_ids):\n",
        "                if pid not in patient_data:\n",
        "                    patient_data[pid] = {\n",
        "                        'risks': [],\n",
        "                        'event': events[i],\n",
        "                        'time': times[i]\n",
        "                    }\n",
        "                patient_data[pid]['risks'].append(slice_risks[i])\n",
        "\n",
        "    # Aggrega\n",
        "    patient_risks = []\n",
        "    patient_events = []\n",
        "    patient_times = []\n",
        "\n",
        "    for pid, data in patient_data.items():\n",
        "        # Mean aggregation\n",
        "        mean_risk = np.mean(data['risks'])\n",
        "        patient_risks.append(mean_risk)\n",
        "        patient_events.append(data['event'])\n",
        "        patient_times.append(data['time'])\n",
        "\n",
        "    patient_risks = np.array(patient_risks)\n",
        "    patient_events = np.array(patient_events)\n",
        "    patient_times = np.array(patient_times)\n",
        "\n",
        "    # C-index\n",
        "    from lifelines.utils import concordance_index\n",
        "    c_index = concordance_index(patient_times, -patient_risks, patient_events)\n",
        "\n",
        "    return c_index, patient_risks, patient_times, patient_events"
      ],
      "metadata": {
        "id": "qWwFXYsb2vLT"
      },
      "execution_count": 17,
      "outputs": []
    },
    {
      "cell_type": "markdown",
      "source": [
        "MAIN"
      ],
      "metadata": {
        "id": "sxK82jrT5btj"
      }
    },
    {
      "cell_type": "code",
      "source": [
        "import os\n",
        "\n",
        "device = torch.device('cuda' if torch.cuda.is_available() else 'cpu')\n",
        "print(device)\n",
        "\n",
        "# Load data -> already have train_df,val_df,test_df\n",
        "train_dataset = SliceLevelDataset(train_df, root_path=root_path)\n",
        "val_dataset = SliceLevelDataset(val_df, root_path=root_path)\n",
        "\n",
        "# DataLoader\n",
        "train_loader = DataLoader(train_dataset, batch_size=32, shuffle=True, num_workers=4, collate_fn=patient_collate)\n",
        "val_loader = DataLoader(val_dataset, batch_size=32, shuffle=False, num_workers=4, collate_fn=patient_collate)\n",
        "\n",
        "# Model\n",
        "model = SliceLevelCNN(backbone_name='efficientnet_b0', pretrained=True).to(device)\n",
        "print(f\"✅ Model initialized\")\n",
        "print(f\"   Parameters: {sum(p.numel() for p in model.parameters()):,}\")\n",
        "\n",
        "# Optimizer\n",
        "optimizer = torch.optim.AdamW(model.parameters(), lr=1e-4, weight_decay=1e-5)\n",
        "scheduler = torch.optim.lr_scheduler.ReduceLROnPlateau(optimizer, mode='max', factor=0.5, patience=3)\n",
        "\n",
        "scaler = torch.cuda.amp.GradScaler()\n",
        "best_c_index = 0.0\n",
        "num_epochs = 30\n",
        "checkpoint_dir = \"/content/drive/MyDrive/checkpoints_clipped\"  # Directory for saving checkpoints\n",
        "\n",
        "# Create checkpoint directory if it doesn't exist\n",
        "if not os.path.exists(checkpoint_dir):\n",
        "    os.makedirs(checkpoint_dir)\n",
        "\n",
        "# Prepara il tracciamento delle metriche\n",
        "train_losses = []\n",
        "val_c_indexes = []\n",
        "\n",
        "# Optionally, load checkpoint\n",
        "start_epoch = 0\n",
        "checkpoint_path = os.path.join(checkpoint_dir, \"checkpoint_epoch_9.pth\")\n",
        "if os.path.exists(checkpoint_path):\n",
        "    checkpoint = torch.load(checkpoint_path, weights_only = False)\n",
        "    model.load_state_dict(checkpoint['model_state_dict'])\n",
        "    optimizer.load_state_dict(checkpoint['optimizer_state_dict'])\n",
        "    best_c_index = checkpoint['c_index']\n",
        "    start_epoch = checkpoint['epoch'] + 1  # Start from the next epoch\n",
        "    print(f\"✅ Loaded checkpoint from epoch {start_epoch - 1}, C-index: {best_c_index:.4f}\")\n",
        "\n",
        "for epoch in range(start_epoch, num_epochs):\n",
        "\n",
        "    torch.cuda.empty_cache()\n",
        "    print(f\"\\n{'='*60}\")\n",
        "    print(f\"Epoch {epoch+1}/{num_epochs}\")\n",
        "    print(f\"{'='*60}\")\n",
        "\n",
        "    # Train\n",
        "    train_loss, scaler = train_epoch(model, train_loader, optimizer, device, scaler)\n",
        "    train_losses.append(train_loss)\n",
        "\n",
        "    # Validate\n",
        "    val_c_index, val_risks, val_times, val_events = evaluate_slice_level(model, val_loader, device)\n",
        "    val_c_indexes.append(val_c_index)\n",
        "\n",
        "    print(f\"Train Loss: {train_loss:.4f}\")\n",
        "    print(f\"Val C-index: {val_c_index:.4f}\")\n",
        "\n",
        "    # Scheduler step\n",
        "    scheduler.step(val_c_index)\n",
        "\n",
        "    # Save the model checkpoint after each epoch\n",
        "    checkpoint_epoch_path = os.path.join(checkpoint_dir, f\"checkpoint_epoch_{epoch+1}.pth\")\n",
        "    torch.save({\n",
        "        'epoch': epoch,\n",
        "        'model_state_dict': model.state_dict(),\n",
        "        'optimizer_state_dict': optimizer.state_dict(),\n",
        "        'c_index': val_c_index,\n",
        "    }, checkpoint_epoch_path)\n",
        "    print(f\"✅ Checkpoint saved at {checkpoint_epoch_path}\")\n",
        "\n",
        "    # Save the best model\n",
        "    if val_c_index > best_c_index:\n",
        "        best_c_index = val_c_index\n",
        "        torch.save({\n",
        "            'epoch': epoch,\n",
        "            'model_state_dict': model.state_dict(),\n",
        "            'optimizer_state_dict': optimizer.state_dict(),\n",
        "            'c_index': val_c_index,\n",
        "        }, os.path.join(checkpoint_dir, \"best_slice_level_model.pth\"))\n",
        "        print(f\"✅ Saved best model (C-index: {val_c_index:.4f})\")\n",
        "\n",
        "print(f\"\\n🎉 Training completed!\")\n",
        "print(f\"   Best C-index: {best_c_index:.4f}\")\n",
        "\n",
        "# Traccia la perdita e il C-index\n",
        "plt.figure(figsize=(10, 5))\n",
        "plt.subplot(1, 2, 1)\n",
        "plt.plot(range(1, num_epochs + 1), train_losses, label=\"Train Loss\")\n",
        "plt.xlabel(\"Epoch\")\n",
        "plt.ylabel(\"Loss\")\n",
        "plt.title(\"Train Loss per Epoch\")\n",
        "\n",
        "plt.subplot(1, 2, 2)\n",
        "plt.plot(range(1, num_epochs + 1), val_c_indexes, label=\"Validation C-index\")\n",
        "plt.xlabel(\"Epoch\")\n",
        "plt.ylabel(\"C-index\")\n",
        "plt.title(\"Validation C-index per Epoch\")\n",
        "\n",
        "plt.tight_layout()\n",
        "plt.show()\n"
      ],
      "metadata": {
        "colab": {
          "base_uri": "https://localhost:8080/",
          "height": 1000
        },
        "id": "jkhHk-Uw5bUh",
        "outputId": "29180eec-4a3b-4773-cc9d-2efde2bf9770"
      },
      "execution_count": null,
      "outputs": [
        {
          "output_type": "stream",
          "name": "stdout",
          "text": [
            "cuda\n",
            "Dataset: 123 patients → 1279 slices\n",
            "Dataset: 26 patients → 270 slices\n",
            "✅ Model initialized\n",
            "   Parameters: 4,180,221\n",
            "\n",
            "============================================================\n",
            "Epoch 1/30\n",
            "============================================================\n"
          ]
        },
        {
          "output_type": "stream",
          "name": "stderr",
          "text": [
            "\rTraining:   0%|          | 0/40 [00:00<?, ?it/s]"
          ]
        },
        {
          "output_type": "display_data",
          "data": {
            "text/plain": [
              "<Figure size 500x500 with 1 Axes>"
            ],
            "image/png": "[encoded data removed]"
          },
          "metadata": {}
        },
        {
          "output_type": "stream",
          "name": "stderr",
          "text": [
            "Training: 100%|██████████| 40/40 [11:03<00:00, 16.58s/it]\n"
          ]
        },
        {
          "output_type": "stream",
          "name": "stdout",
          "text": [
            "\n",
            "📊 Risk Statistics:\n",
            "Slice risks  - Mean: 0.044, Std: 1.520, Range: [-2.908, 2.906]\n",
            "Patient risks - Mean: 0.036, Std: 1.500, Range: [-2.873, 2.904]\n"
          ]
        },
        {
          "output_type": "stream",
          "name": "stderr",
          "text": [
            "Evaluating: 100%|██████████| 9/9 [02:04<00:00, 13.88s/it]\n"
          ]
        },
        {
          "output_type": "stream",
          "name": "stdout",
          "text": [
            "Train Loss: 3.0339\n",
            "Val C-index: 0.6169\n",
            "✅ Checkpoint saved at /content/drive/MyDrive/checkpoints_clipped/checkpoint_epoch_1.pth\n",
            "✅ Saved best model (C-index: 0.6169)\n",
            "\n",
            "============================================================\n",
            "Epoch 2/30\n",
            "============================================================\n"
          ]
        },
        {
          "output_type": "stream",
          "name": "stderr",
          "text": [
            "\rTraining:   0%|          | 0/40 [00:00<?, ?it/s]"
          ]
        },
        {
          "output_type": "display_data",
          "data": {
            "text/plain": [
              "<Figure size 500x500 with 1 Axes>"
            ],
            "image/png": "[encoded data removed]"
          },
          "metadata": {}
        },
        {
          "output_type": "stream",
          "name": "stderr",
          "text": [
            "Training: 100%|██████████| 40/40 [11:25<00:00, 17.14s/it]\n"
          ]
        },
        {
          "output_type": "stream",
          "name": "stdout",
          "text": [
            "\n",
            "📊 Risk Statistics:\n",
            "Slice risks  - Mean: 0.093, Std: 1.738, Range: [-2.971, 2.969]\n",
            "Patient risks - Mean: 0.116, Std: 1.710, Range: [-2.971, 2.969]\n"
          ]
        },
        {
          "output_type": "stream",
          "name": "stderr",
          "text": [
            "\rEvaluating:   0%|          | 0/9 [00:00<?, ?it/s]"
          ]
        }
      ]
    }
  ]
}